{
 "cells": [
  {
   "cell_type": "markdown",
   "metadata": {},
   "source": [
    "# Introduction to CSV and Pandas\n",
    "This notebook shows how to read a CSV file in two ways:\n",
    "1. **Using Python's built-in `csv` module**\n",
    "2. **Using the `pandas` library**\n",
    "We'll also see how to examine the data once it's loaded."
   ]
  },
  {
   "cell_type": "code",
   "execution_count": null,
   "metadata": {},
   "outputs": [],
   "source": [
    "# Reading data using Python's built-in csv module\n",
    "import csv\n",
    "\n",
    "with open('students.csv', 'r') as f:\n",
    "    reader = csv.DictReader(f) # csv.DictReader returns an iterator that produces dictionaries\n",
    "    data_csv = list(reader)\n",
    "\n",
    "print('First record using csv module:', data_csv[0])"
   ]
  },
  {
   "cell_type": "markdown",
   "metadata": {},
   "source": [
    "## Reading Data with Pandas\n",
    "`pandas` makes it easier to work with tabular data and offers many helpful methods."
   ]
  },
  {
   "cell_type": "code",
   "execution_count": null,
   "metadata": {},
   "outputs": [],
   "source": [
    "# Reading data using pandas\n",
    "\n",
    "import pandas as pd\n",
    "import os\n",
    "df = pd.read_csv(\"students.csv\")\n",
    "print('First 5 records using pandas:')\n",
    "df.head()"
   ]
  },
  {
   "cell_type": "code",
   "execution_count": null,
   "metadata": {},
   "outputs": [],
   "source": [
    "# Reading a specfic column\n",
    "df['Name'] "
   ]
  },
  {
   "cell_type": "code",
   "execution_count": null,
   "metadata": {},
   "outputs": [],
   "source": [
    "# Accessing a specific row\n",
    "df.iloc[2] "
   ]
  },
  {
   "cell_type": "code",
   "execution_count": null,
   "metadata": {},
   "outputs": [],
   "source": [
    "# use .loc\n",
    "df.loc[2]"
   ]
  },
  {
   "cell_type": "markdown",
   "metadata": {},
   "source": [
    "## Olympics dataset from Kaggle has inconsistent lines\n",
    "\n",
    "Here is an example of inconsistent lines in the dataset:\n",
    "\n",
    "- **Normal Lines**:\n",
    "    ```\n",
    "    M,110M Hurdles Men,Rio,2016,S,Orlando ORTEGA,ESP,13.17\n",
    "    M,110M Hurdles Men,Rio,2016,B,Dimitri BASCOU,FRA,13.24\n",
    "    ```\n",
    "\n",
    "- **Inconsistent Lines**:\n",
    "    ```\n",
    "    - M,110M Hurdles Men,Beijing,2008,G,Dayron ROBLES,CUB,12.93,+0.1\n",
    "    - M,110M Hurdles Men,Beijing,2008,S,David PAYNE,USA,13.17,+0.1\n",
    "    - M,110M Hurdles Men,Beijing,2008,B,David OLIVER,USA,13.18,+0.1\n",
    "    ```\n",
    "\n",
    "The inconsistent lines have an extra field at the end (e.g., `+0.1`), which makes them differ from the standard format."
   ]
  },
  {
   "cell_type": "code",
   "execution_count": null,
   "metadata": {},
   "outputs": [],
   "source": [
    "olympics_df = pd.read_csv(\"results.csv\", on_bad_lines=\"skip\")\n",
    "olympics_df.head()"
   ]
  },
  {
   "cell_type": "markdown",
   "metadata": {},
   "source": [
    "You can see that using pandas is concise and powerful. We can easily access columns, rows, and perform many transformations.\n",
    "\n",
    "_End of notebook_"
   ]
  }
 ],
 "metadata": {
  "kernelspec": {
   "display_name": "Python 3",
   "language": "python",
   "name": "python3"
  },
  "language_info": {
   "codemirror_mode": {
    "name": "ipython",
    "version": 3
   },
   "file_extension": ".py",
   "mimetype": "text/x-python",
   "name": "python",
   "nbconvert_exporter": "python",
   "pygments_lexer": "ipython3",
   "version": "3.12.0"
  }
 },
 "nbformat": 4,
 "nbformat_minor": 2
}
